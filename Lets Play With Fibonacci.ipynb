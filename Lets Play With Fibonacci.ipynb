{
 "cells": [
  {
   "cell_type": "markdown",
   "id": "b9d1b0fb",
   "metadata": {},
   "source": [
    "## Lets Play With Fibonacci"
   ]
  },
  {
   "cell_type": "code",
   "execution_count": null,
   "id": "5d839e94",
   "metadata": {},
   "outputs": [],
   "source": [
    "num = int(input(\"Enter any number :\"))\n",
    "a, b = 0, 1\n",
    "sum = 0\n",
    "if num <= 0:\n",
    "    print('Enter a number greater than 0')\n",
    "else:\n",
    "    print(\"Fibonacci Series: \", end='')\n",
    "    for i in range(0, num):\n",
    "        print(sum,end=\" \")\n",
    "        a = b\n",
    "        b = sum\n",
    "        sum = a+b\n",
    "\n"
   ]
  }
 ],
 "metadata": {
  "kernelspec": {
   "display_name": "Python 3 (ipykernel)",
   "language": "python",
   "name": "python3"
  },
  "language_info": {
   "codemirror_mode": {
    "name": "ipython",
    "version": 3
   },
   "file_extension": ".py",
   "mimetype": "text/x-python",
   "name": "python",
   "nbconvert_exporter": "python",
   "pygments_lexer": "ipython3",
   "version": "3.9.6"
  }
 },
 "nbformat": 4,
 "nbformat_minor": 5
}
